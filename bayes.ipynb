{
  "cells": [
    {
      "cell_type": "code",
      "execution_count": 33,
      "metadata": {
        "id": "r0A9XtsKkD8p"
      },
      "outputs": [],
      "source": [
        "from matplotlib import pyplot as plt\n",
        "import numpy as np\n",
        "import math"
      ]
    },
    {
      "cell_type": "code",
      "source": [
        "#aggregate probabilities to the nearest 1/bucketCount \n",
        "bucketCount = 1000 \n",
        "#input string of independent binary observations of variable\n",
        "EVENTS = \"1010\" \n",
        "#input predicted probabilty in units per bucketCount\n",
        "PREDICTION = 50"
      ],
      "metadata": {
        "id": "vdHT-epnkZ7m"
      },
      "execution_count": 34,
      "outputs": []
    },
    {
      "cell_type": "code",
      "source": [
        "\n",
        "a_dist = np.zeros(bucketCount,dtype=float)\n",
        "a_dist.fill(1/bucketCount)\n",
        "labels = np.arange(1,bucketCount+1) "
      ],
      "metadata": {
        "id": "0Dw2D-XhDiZf"
      },
      "execution_count": 35,
      "outputs": []
    },
    {
      "cell_type": "code",
      "source": [
        "def posterior(a_prob, b_prob, ba_prob): #bayes theorem\n",
        "  return ba_prob * a_prob / b_prob\n",
        "def accuracy(a_dist, i):\n",
        "  return a_dist[i-1] / a_dist.sum()"
      ],
      "metadata": {
        "id": "qbqU8b_Tk9ad"
      },
      "execution_count": 36,
      "outputs": []
    },
    {
      "cell_type": "code",
      "source": [
        "for event in EVENTS: #loop updating on each event\n",
        "  ev = 0 #expected value of true probability of event (B) occuring\n",
        "  for i in range(bucketCount):\n",
        "    ev += ((i+1)/bucketCount) * a_dist[i] #i+1% * chance true probability is i+1%\n",
        "  for i in range(bucketCount): #update each probability bin\n",
        "    a_dist[i] = posterior(a_dist[i],ev,(int(event)*(i+1)/bucketCount)+(1-int(event))*(1-(i+1)/bucketCount)) #apply bayes\n",
        "plt.bar(labels,a_dist,width=0.5)"
      ],
      "metadata": {
        "colab": {
          "base_uri": "https://localhost:8080/",
          "height": 283
        },
        "id": "ETRQ6H3PmMmh",
        "outputId": "1e657014-835b-4fd3-9e51-ce3371b6459a"
      },
      "execution_count": 37,
      "outputs": [
        {
          "output_type": "execute_result",
          "data": {
            "text/plain": [
              "<BarContainer object of 1000 artists>"
            ]
          },
          "metadata": {},
          "execution_count": 37
        },
        {
          "output_type": "display_data",
          "data": {
            "text/plain": [
              "<Figure size 432x288 with 1 Axes>"
            ],
            "image/png": "[encoded data removed]"
          },
          "metadata": {
            "needs_background": "light"
          }
        }
      ]
    },
    {
      "cell_type": "code",
      "source": [
        "print(accuracy(a_dist,PREDICTION) * bucketCount) #ratio of proportion of probability mass of prediction to uniform distribution expectation"
      ],
      "metadata": {
        "id": "yUerVb3bcy6B",
        "outputId": "54249c3c-fa30-4b50-d462-3810290c0a84",
        "colab": {
          "base_uri": "https://localhost:8080/"
        }
      },
      "execution_count": 38,
      "outputs": [
        {
          "output_type": "stream",
          "name": "stdout",
          "text": [
            "0.06768750000006768\n"
          ]
        }
      ]
    }
  ],
  "metadata": {
    "language_info": {
      "name": "python"
    },
    "orig_nbformat": 4,
    "colab": {
      "provenance": []
    },
    "kernelspec": {
      "name": "python3",
      "display_name": "Python 3"
    },
    "gpuClass": "standard"
  },
  "nbformat": 4,
  "nbformat_minor": 0
}