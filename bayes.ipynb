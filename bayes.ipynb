{
  "cells": [
    {
      "cell_type": "code",
      "execution_count": 19,
      "metadata": {
        "id": "r0A9XtsKkD8p"
      },
      "outputs": [],
      "source": [
        "from matplotlib import pyplot as plt\n",
        "import numpy as np\n",
        "import math"
      ]
    },
    {
      "cell_type": "code",
      "source": [
        "bucketCount = 100 #aggregate probabilities to the nearest 1/bucketCount \n",
        "a_dist = np.zeros(bucketCount,dtype=float)\n",
        "a_dist.fill(1/bucketCount)\n",
        "labels = np.arange(1,bucketCount+1) "
      ],
      "metadata": {
        "id": "vdHT-epnkZ7m"
      },
      "execution_count": 20,
      "outputs": []
    },
    {
      "cell_type": "code",
      "source": [
        "#input string of independent binary observations of variable\n",
        "events = \"101000000\" "
      ],
      "metadata": {
        "id": "0Dw2D-XhDiZf"
      },
      "execution_count": 21,
      "outputs": []
    },
    {
      "cell_type": "code",
      "source": [
        "def posterior(a_prob, b_prob, ba_prob): #bayes theorem\n",
        "  return ba_prob * a_prob / b_prob"
      ],
      "metadata": {
        "id": "qbqU8b_Tk9ad"
      },
      "execution_count": 22,
      "outputs": []
    },
    {
      "cell_type": "code",
      "source": [
        "for char in events: #loop updating on each event\n",
        "  ev = 0 #expected value of true probability of event (B) occuring\n",
        "  for i in range(bucketCount):\n",
        "    ev += ((i+1)/bucketCount) * a_dist[i] #i+1% * chance true probability is i+1%\n",
        "  for i in range(bucketCount): #update each probability bin\n",
        "    a_dist[i] = posterior(a_dist[i],ev,(int(char)*(i+1)/bucketCount)+(1-int(char))*(1-(i+1)/bucketCount)) #apply bayes\n",
        "plt.bar(labels,a_dist,width=0.5)\n"
      ],
      "metadata": {
        "colab": {
          "base_uri": "https://localhost:8080/",
          "height": 283
        },
        "id": "ETRQ6H3PmMmh",
        "outputId": "a67418e1-018c-4942-aaa6-3de7ed9501da"
      },
      "execution_count": 25,
      "outputs": [
        {
          "output_type": "execute_result",
          "data": {
            "text/plain": [
              "<BarContainer object of 100 artists>"
            ]
          },
          "metadata": {},
          "execution_count": 25
        },
        {
          "output_type": "display_data",
          "data": {
            "text/plain": [
              "<Figure size 432x288 with 1 Axes>"
            ],
            "image/png": "[encoded data removed]"
          },
          "metadata": {
            "needs_background": "light"
          }
        }
      ]
    }
  ],
  "metadata": {
    "language_info": {
      "name": "python"
    },
    "orig_nbformat": 4,
    "colab": {
      "provenance": []
    },
    "kernelspec": {
      "name": "python3",
      "display_name": "Python 3"
    },
    "gpuClass": "standard"
  },
  "nbformat": 4,
  "nbformat_minor": 0
}