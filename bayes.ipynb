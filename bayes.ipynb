{
  "cells": [
    {
      "cell_type": "code",
      "execution_count": 19,
      "metadata": {
        "id": "r0A9XtsKkD8p"
      },
      "outputs": [],
      "source": [
        "from matplotlib import pyplot as plt\n",
        "import numpy as np\n",
        "import math"
      ]
    },
    {
      "cell_type": "code",
      "source": [
        "bucketCount = 100 #aggregate probabilities to the nearest 1/bucketCount \n",
        "a_dist = np.zeros(bucketCount,dtype=float)\n",
        "a_dist.fill(1/bucketCount)\n",
        "labels = np.arange(1,bucketCount+1) "
      ],
      "metadata": {
        "id": "vdHT-epnkZ7m"
      },
      "execution_count": 20,
      "outputs": []
    },
    {
      "cell_type": "code",
      "source": [
        "#input string of independent binary observations of variable\n",
        "events = \"101000000\" "
      ],
      "metadata": {
        "id": "0Dw2D-XhDiZf"
      },
      "execution_count": 21,
      "outputs": []
    },
    {
      "cell_type": "code",
      "source": [
        "def posterior(a_prob, b_prob, ba_prob): #bayes theorem\n",
        "  return ba_prob * a_prob / b_prob"
      ],
      "metadata": {
        "id": "qbqU8b_Tk9ad"
      },
      "execution_count": 22,
      "outputs": []
    },
    {
      "cell_type": "code",
      "source": [
        "for char in events:\n",
        "  ev = 0\n",
        "  for i in range(bucketCount):\n",
        "    ev += ((i+1)/bucketCount) * a_dist[i]\n",
        "  print(ev)\n",
        "  for i in range(bucketCount):\n",
        "    a_dist[i] = posterior(a_dist[i],ev,(int(char)*(i+1)/bucketCount)+(1-int(char))*(1-(i+1)/bucketCount))\n",
        "print(a_dist.sum())\n",
        "plt.bar(labels,a_dist,width=0.5)\n"
      ],
      "metadata": {
        "colab": {
          "base_uri": "https://localhost:8080/",
          "height": 461
        },
        "id": "ETRQ6H3PmMmh",
        "outputId": "3a3c6f46-fb87-43e1-e97d-bdad4c858f0c"
      },
      "execution_count": 23,
      "outputs": [
        {
          "output_type": "stream",
          "name": "stdout",
          "text": [
            "0.5049999999999999\n",
            "0.67\n",
            "0.24626865671641793\n",
            "0.5999600000000002\n",
            "0.3333888925928394\n",
            "0.4285714428557145\n",
            "0.5000000000000001\n",
            "0.5555555659155562\n",
            "0.6000000167832013\n",
            "2.3333326802333603\n"
          ]
        },
        {
          "output_type": "execute_result",
          "data": {
            "text/plain": [
              "<BarContainer object of 100 artists>"
            ]
          },
          "metadata": {},
          "execution_count": 23
        },
        {
          "output_type": "display_data",
          "data": {
            "text/plain": [
              "<Figure size 432x288 with 1 Axes>"
            ],
            "image/png": "[encoded data removed]"
          },
          "metadata": {
            "needs_background": "light"
          }
        }
      ]
    },
    {
      "cell_type": "code",
      "source": [
        "for i in range(1,bucketCount+1):\n",
        "  prev_posterior = 1/bucketCount #prior before observation of any events\n",
        "  for char in events: #update using previous posterior as prior\n",
        "    prev_posterior = posterior(prev_posterior,1/2,(int(char) * i/bucketCount) + (1-int(char))*(1-i/bucketCount)) \n",
        "  plt.bar(i,prev_posterior)\n",
        "\n",
        "plt.show()\n"
      ],
      "metadata": {
        "colab": {
          "base_uri": "https://localhost:8080/",
          "height": 265
        },
        "id": "zDYFGrkhrqT8",
        "outputId": "f490b13c-8db2-48aa-8fbb-752b2f981524"
      },
      "execution_count": 24,
      "outputs": [
        {
          "output_type": "display_data",
          "data": {
            "text/plain": [
              "<Figure size 432x288 with 1 Axes>"
            ],
            "image/png": "[encoded data removed]"
          },
          "metadata": {
            "needs_background": "light"
          }
        }
      ]
    }
  ],
  "metadata": {
    "language_info": {
      "name": "python"
    },
    "orig_nbformat": 4,
    "colab": {
      "provenance": []
    },
    "kernelspec": {
      "name": "python3",
      "display_name": "Python 3"
    },
    "gpuClass": "standard"
  },
  "nbformat": 4,
  "nbformat_minor": 0
}